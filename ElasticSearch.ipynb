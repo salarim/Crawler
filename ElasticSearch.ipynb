{
 "cells": [
  {
   "cell_type": "markdown",
   "metadata": {},
   "source": [
    "# 2"
   ]
  },
  {
   "cell_type": "code",
   "execution_count": 31,
   "metadata": {},
   "outputs": [],
   "source": [
    "from elasticsearch import Elasticsearch\n",
    "import json\n",
    "\n",
    "class MySearch:\n",
    "    max_id = 0\n",
    "    \n",
    "    def __init__(self, index='paper_index', addr='http://localhost:9200'):\n",
    "        self.es = Elasticsearch(addr)\n",
    "        self.index = index\n",
    "        \n",
    "    def index_json(self, path):\n",
    "        with open(path, 'r') as my_file:\n",
    "            data = json.load(my_file)\n",
    "            for i, paper in enumerate(data):\n",
    "                if paper['type'] == 'paper':\n",
    "                    paper.pop('type')\n",
    "                    self.es.index(index=self.index, doc_type=self.index, id=MySearch.max_id+1, body={'paper': paper})\n",
    "                    MySearch.max_id +=1\n",
    "        return True\n",
    "    \n",
    "    def delete_index(self):\n",
    "        MySearch.max_id = 0\n",
    "        return self.es.indices.delete(self.index)\n",
    "        \n",
    "    def bare_search(self, query, size=10):\n",
    "        return self.es.search(index=self.index, doc_type=self.index, body=query, size=size)\n",
    "    \n",
    "    def update(self, id, new_dict):\n",
    "        return self.es.update(index=self.index,doc_type=self.index,id=id, body={\"doc\": new_dict})\n",
    "    \n",
    "    def search(self, title_query, abstract_query, year, w_title=1.0,\n",
    "               w_abstract=1.0, w_date=1.0, use_page_rank=False, size = 10):\n",
    "        my_query = {\"query\": { \n",
    "                \"bool\": {\n",
    "                    \"should\": [\n",
    "                        {\"match\" : {\n",
    "                          \"paper.title\":{\n",
    "                              \"query\":title_query,\n",
    "                              \"boost\": w_title\n",
    "                        }}},\n",
    "                        {\"match\" : {\n",
    "                          \"paper.abstract\":{\n",
    "                              \"query\":abstract_query,\n",
    "                              \"boost\": w_abstract\n",
    "                        }}},\n",
    "                        { \"range\": { \"paper.date\": { \"gte\": str(year) , \"boost\" : w_date}}}\n",
    "                    ]\n",
    "                }\n",
    "            }}\n",
    "        if not use_page_rank:\n",
    "            return self.bare_search(my_query, size)\n",
    "        else:\n",
    "            new_query = {\n",
    "                        \"query\": {\n",
    "                            \"function_score\": {\n",
    "                                \"query\": my_query[\"query\"],\n",
    "                                \"script_score\" : {\n",
    "                                    \"script\" : {\n",
    "                                      \"source\": \"_score + doc['paper.page_rank'].value\"\n",
    "                                    }\n",
    "                                }\n",
    "                            }\n",
    "                        }}\n",
    "            return self.bare_search(new_query, size)"
   ]
  },
  {
   "cell_type": "code",
   "execution_count": 2,
   "metadata": {},
   "outputs": [],
   "source": [
    "# ms = MySearch()\n",
    "# ms.index_json('semanticCrawler/data.json')"
   ]
  },
  {
   "cell_type": "code",
   "execution_count": 3,
   "metadata": {},
   "outputs": [],
   "source": [
    "# ms.delete_index()"
   ]
  },
  {
   "cell_type": "code",
   "execution_count": 62,
   "metadata": {},
   "outputs": [
    {
     "data": {
      "text/plain": [
       "{'_shards': {'failed': 0, 'skipped': 0, 'successful': 5, 'total': 5},\n",
       " 'hits': {'hits': [{'_id': '663',\n",
       "    '_index': 'paper_index',\n",
       "    '_score': 1.9333732,\n",
       "    '_source': {'paper': {'abstract': 'Semantic Scholar extracted view of \"Coherence and Coreference\" by Jerry R. Hobbs',\n",
       "      'authors': ['Jerry R. Hobbs'],\n",
       "      'date': '1979',\n",
       "      'id': 'Coherence-and-Coreference-Hobbs/e564391324ede7c9771e78b6d8c23bee5afff559',\n",
       "      'page_rank': 0.00020358794857695006,\n",
       "      'references': [],\n",
       "      'title': 'Coherence and Coreference'}},\n",
       "    '_type': 'paper_index'}],\n",
       "  'max_score': 1.9333732,\n",
       "  'total': 566},\n",
       " 'timed_out': False,\n",
       " 'took': 5}"
      ]
     },
     "execution_count": 62,
     "metadata": {},
     "output_type": "execute_result"
    }
   ],
   "source": [
    "# ms.bare_search({'query':{'match':{'paper.title':'and'}}}, 1)"
   ]
  },
  {
   "cell_type": "markdown",
   "metadata": {},
   "source": [
    "# 3"
   ]
  },
  {
   "cell_type": "code",
   "execution_count": 4,
   "metadata": {},
   "outputs": [],
   "source": [
    "import numpy as np\n",
    "from scipy.sparse import csc_matrix\n",
    "\n",
    "def pageRank(G, s = .85, maxerr = .0001):\n",
    "    n = G.shape[0]\n",
    "    A = csc_matrix(G,dtype=np.float)\n",
    "    rsums = np.array(A.sum(1))[:,0]\n",
    "    ri, ci = A.nonzero()\n",
    "    A.data /= rsums[ri]\n",
    "\n",
    "    ro, r = np.zeros(n), np.ones(n)\n",
    "    while np.sum(np.abs(r-ro)) > maxerr:\n",
    "        print('ERR:', np.sum(np.abs(r-ro)))\n",
    "        ro = r.copy()\n",
    "        for i in range(0,n):\n",
    "            Ai = np.array(A[:,i].todense())[:,0]\n",
    "            Ei = np.ones(n) / float(n)\n",
    "            r[i] = ro.dot( Ai*s + Ei*(1-s))\n",
    "            \n",
    "    return r/float(sum(r))"
   ]
  },
  {
   "cell_type": "code",
   "execution_count": 5,
   "metadata": {},
   "outputs": [],
   "source": [
    "def create_graph(path):\n",
    "    ids = []\n",
    "    graph = []\n",
    "    authors = set()\n",
    "    authors_graph = []\n",
    "    with open(path, 'r') as my_file:\n",
    "        data = json.load(my_file)\n",
    "        new_data = []\n",
    "        for paper in data:\n",
    "            if paper['type'] == 'paper':\n",
    "                new_data.append(paper)\n",
    "                ids.append(paper['id'])\n",
    "                for author in paper['authors']:\n",
    "                    authors.add(author)\n",
    "\n",
    "        data = new_data\n",
    "        authors = list(authors)\n",
    "        authors_index ={author:i for i, author in enumerate(authors)}\n",
    "        for i in range(len(authors)):\n",
    "            authors_graph.append([])\n",
    "            for j in range(len(authors)):\n",
    "                authors_graph[i].append(0)\n",
    "            \n",
    "        for ind1, paper1 in enumerate(data):\n",
    "            graph.append([])\n",
    "            for ind2, paper2 in enumerate(data):\n",
    "                if paper2['id'] in paper1['references']:\n",
    "                    graph[ind1].append(1)\n",
    "                    \n",
    "                    for author1 in paper1['authors']:\n",
    "                        for author2 in paper2['authors']:\n",
    "                            authors_graph[authors_index[author1]][authors_index[author2]] = 1\n",
    "                else:\n",
    "                    graph[ind1].append(0)\n",
    "    \n",
    "    return graph, ids, authors_graph, authors"
   ]
  },
  {
   "cell_type": "code",
   "execution_count": 6,
   "metadata": {},
   "outputs": [],
   "source": [
    "# graph, ids , authors_graph, authors= create_graph('semanticCrawler/data.json')\n",
    "# graph = np.array(graph, dtype=np.float)\n",
    "# authors_graph = np.array(authors_graph, dtype=np.float)"
   ]
  },
  {
   "cell_type": "code",
   "execution_count": 7,
   "metadata": {},
   "outputs": [
    {
     "name": "stdout",
     "output_type": "stream",
     "text": [
      "ERR: 2000.0\n",
      "ERR: 1156.8520238095234\n",
      "ERR: 476.46353660863895\n",
      "ERR: 229.65400258650843\n",
      "ERR: 112.62301365575024\n",
      "ERR: 56.98554497768786\n",
      "ERR: 29.032707209362307\n",
      "ERR: 14.750073802979609\n",
      "ERR: 7.461954984207983\n",
      "ERR: 3.8024358769042843\n",
      "ERR: 1.935596239438159\n",
      "ERR: 0.9959575075906749\n",
      "ERR: 0.5112930186440392\n",
      "ERR: 0.2636425033725379\n",
      "ERR: 0.1359713471133596\n",
      "ERR: 0.07002016997793546\n",
      "ERR: 0.0360416882318603\n",
      "ERR: 0.018526308021111104\n",
      "ERR: 0.009517107780170078\n",
      "ERR: 0.0048848875597231715\n",
      "ERR: 0.0025067513316527662\n",
      "ERR: 0.001285984903271673\n",
      "ERR: 0.0006597065558292028\n",
      "ERR: 0.00033840719178822553\n",
      "ERR: 0.00017359993900468228\n"
     ]
    }
   ],
   "source": [
    "# pr = pageRank(graph)"
   ]
  },
  {
   "cell_type": "code",
   "execution_count": 14,
   "metadata": {},
   "outputs": [],
   "source": [
    "# for i, p in enumerate(pr):\n",
    "#     ms.update(i+1, {'paper': {'page_rank':p}})"
   ]
  },
  {
   "cell_type": "markdown",
   "metadata": {},
   "source": [
    "# 4"
   ]
  },
  {
   "cell_type": "code",
   "execution_count": 106,
   "metadata": {},
   "outputs": [
    {
     "data": {
      "text/plain": [
       "{'_shards': {'failed': 0, 'skipped': 0, 'successful': 5, 'total': 5},\n",
       " 'hits': {'hits': [{'_id': '5',\n",
       "    '_index': 'paper_index',\n",
       "    '_score': 1.0,\n",
       "    '_source': {'paper': {'abstract': 'Big-data server applications frequently encounter data misses, and hence, lose significant performance potential. One way to reduce the number of data misses or their effect is data prefetching. As data accesses have high temporal correlations, temporal prefetching techniques are promising for them. While state-of-the-art temporal prefetching techniques are effective at reducing the number of data misses, we observe that there is a significant gap between what they offer and the opportunity. This work aims to improve the effectiveness of temporal prefetching techniques. We identify the lookup mechanism of existing temporal prefetchers responsible for the large gap between what they offer and the opportunity. Existing lookup mechanisms either not choose the right stream in the history, or unnecessarily delay the stream selection, and hence, miss the opportunity at the beginning of every stream. In this work, we introduce Domino prefetching to address the limitations of existing temporal prefetchers. Domino prefetcher is a temporal data prefetching technique that logically looks up the history with both one and two last miss addresses to find a match for prefetching. We propose a practical design for Domino prefetcher that employs an Enhanced Index Table that is indexed by just a single miss address. We show that Domino prefetcher captures more than 90% of the temporal opportunity. Through detailed evaluation targeting a quad-core processor and a set of server workloads, we show that Domino prefetcher improves system performance by 16% over the baseline with no data prefetcher and 6% over the state-of- the-art temporal data prefetcher.',\n",
       "      'authors': ['Mohammad Bakhshalipour',\n",
       "       'Pejman Lotfi-Kamran',\n",
       "       'Hamid Sarbazi-Azad'],\n",
       "      'date': '2018',\n",
       "      'id': 'Domino-Temporal-Data-Prefetcher-Bakhshalipour-Lotfi-Kamran/665c0dde22c2f8598869d690d59c9b6d84b07c01',\n",
       "      'page_rank': 0.00014618441055616897,\n",
       "      'references': ['Identifying-Hierarchical-Structure-in-Sequences%3A-A-Nevill-Manning-Witten/02aca8223525caa99efc4b0e2810e450ee6776ba',\n",
       "       'Clearing-the-clouds%3A-a-study-of-emerging-scale-out-Ferdman-Adileh/8b10b13fb495101d1e4eb768907cff05e3bd9315',\n",
       "       'Practical-off-chip-meta-data-for-temporal-memory-Wenisch-Ferdman/2b51020e54a6361316cc477c39a2759902022580',\n",
       "       'Temporal-memory-streaming-Wenisch/adc43c28e86d5f577e3b4b2ff120162a7225b1f0',\n",
       "       'Data-cache-prefetching-using-a-global-history-Nesbit-Smith/3933d3380710680865441c87a22d691ba751a2ef',\n",
       "       'Performance-of-Database-Workloads-on-Shared-Memory-Ranganathan-Gharachorloo/04dba1bd51e8f3348c57cb7b5148abd9f4b5aa21',\n",
       "       'Linearizing-irregular-memory-accesses-for-improved-Jain-Lin/2aed1e5dab68713bf8ed0fb4b35a0ec67b087c30',\n",
       "       'Spatio-temporal-memory-streaming-Somogyi-Wenisch/048336a0dc1029416ce47c78b9a5cba8422e6efd',\n",
       "       'Temporal-streams-in-commercial-server-applications-Wenisch-Ferdman/293e7c79a37798032b3047324d101bc49d9a37a2',\n",
       "       'Dynamic-Hot-Data-Stream-Prefetching-for-Programs-Chilimbi-Hirzel/60b85b7ee655397a4d2202f9cdf6dd5e3f04f6fd'],\n",
       "      'title': 'Domino Temporal Data Prefetcher'}},\n",
       "    '_type': 'paper_index'}],\n",
       "  'max_score': 1.0,\n",
       "  'total': 19},\n",
       " 'timed_out': False,\n",
       " 'took': 9}"
      ]
     },
     "execution_count": 106,
     "metadata": {},
     "output_type": "execute_result"
    }
   ],
   "source": [
    "#     ms.search('coordinate', 'coordinate', 2018, 1.0, 0.0, 1.0, False, 1)"
   ]
  },
  {
   "cell_type": "markdown",
   "metadata": {},
   "source": [
    "# 5"
   ]
  },
  {
   "cell_type": "code",
   "execution_count": 9,
   "metadata": {},
   "outputs": [],
   "source": [
    "def normalize(v):\n",
    "    norm = sum(v)\n",
    "    if norm == 0: \n",
    "        return v\n",
    "    return v / norm"
   ]
  },
  {
   "cell_type": "code",
   "execution_count": 10,
   "metadata": {},
   "outputs": [],
   "source": [
    "def HITS(graph, epochs=5):\n",
    "    a = np.ones(len(graph))\n",
    "    h = np.ones(len(graph))\n",
    "    \n",
    "    for epoch in range(epochs):\n",
    "        h = graph.dot(a)\n",
    "        a = h.dot(graph)\n",
    "        a = normalize(a)\n",
    "        h = normalize(h)\n",
    "    \n",
    "    return a"
   ]
  },
  {
   "cell_type": "code",
   "execution_count": 11,
   "metadata": {},
   "outputs": [],
   "source": [
    "def get_best_k(authors_graph, authors, k):\n",
    "    a = HITS(authors_graph)\n",
    "    authorities = [x for x in zip(a, authors)]\n",
    "    authorities.sort(reverse=True)\n",
    "    return authorities[:k]"
   ]
  },
  {
   "cell_type": "code",
   "execution_count": 12,
   "metadata": {},
   "outputs": [
    {
     "data": {
      "text/plain": [
       "[(0.012438237419841213, 'Torsten N. Wiesel'),\n",
       " (0.011940380560591272, 'David H. Hubel'),\n",
       " (0.009335599102681289, 'Peter H. Schiller'),\n",
       " (0.008338461129592916, 'Max S. Cynader'),\n",
       " (0.00823915321494989, 'Nancy Berman'),\n",
       " (0.007852472324501676, 'Charles D. Gilbert'),\n",
       " (0.0077088864586537876, 'Michael P. Stryker'),\n",
       " (0.007611779177375803, 'F. W. Campbell'),\n",
       " (0.007511875645140724, 'Raymond D. Lund'),\n",
       " (0.007457760850912129, 'Simon Levay')]"
      ]
     },
     "execution_count": 12,
     "metadata": {},
     "output_type": "execute_result"
    }
   ],
   "source": [
    "# get_best_k(authors_graph, authors, 10)"
   ]
  },
  {
   "cell_type": "markdown",
   "metadata": {},
   "source": [
    "# User Interface"
   ]
  },
  {
   "cell_type": "code",
   "execution_count": 32,
   "metadata": {},
   "outputs": [],
   "source": [
    "ms = MySearch()\n",
    "graph= ids= authors_graph= authors = None"
   ]
  },
  {
   "cell_type": "code",
   "execution_count": 37,
   "metadata": {},
   "outputs": [
    {
     "data": {
      "application/vnd.jupyter.widget-view+json": {
       "model_id": "18c547e9adb34420a817311b3867680a",
       "version_major": 2,
       "version_minor": 0
      },
      "text/html": [
       "<p>Failed to display Jupyter Widget of type <code>Text</code>.</p>\n",
       "<p>\n",
       "  If you're reading this message in the Jupyter Notebook or JupyterLab Notebook, it may mean\n",
       "  that the widgets JavaScript is still loading. If this message persists, it\n",
       "  likely means that the widgets JavaScript library is either not installed or\n",
       "  not enabled. See the <a href=\"https://ipywidgets.readthedocs.io/en/stable/user_install.html\">Jupyter\n",
       "  Widgets Documentation</a> for setup instructions.\n",
       "</p>\n",
       "<p>\n",
       "  If you're reading this message in another frontend (for example, a static\n",
       "  rendering on GitHub or <a href=\"https://nbviewer.jupyter.org/\">NBViewer</a>),\n",
       "  it may mean that your frontend doesn't currently support widgets.\n",
       "</p>\n"
      ],
      "text/plain": [
       "Text(value='', description='File path')"
      ]
     },
     "metadata": {},
     "output_type": "display_data"
    },
    {
     "data": {
      "application/vnd.jupyter.widget-view+json": {
       "model_id": "db2f80cd62db43faa92306ab27b7f9f0",
       "version_major": 2,
       "version_minor": 0
      },
      "text/html": [
       "<p>Failed to display Jupyter Widget of type <code>Button</code>.</p>\n",
       "<p>\n",
       "  If you're reading this message in the Jupyter Notebook or JupyterLab Notebook, it may mean\n",
       "  that the widgets JavaScript is still loading. If this message persists, it\n",
       "  likely means that the widgets JavaScript library is either not installed or\n",
       "  not enabled. See the <a href=\"https://ipywidgets.readthedocs.io/en/stable/user_install.html\">Jupyter\n",
       "  Widgets Documentation</a> for setup instructions.\n",
       "</p>\n",
       "<p>\n",
       "  If you're reading this message in another frontend (for example, a static\n",
       "  rendering on GitHub or <a href=\"https://nbviewer.jupyter.org/\">NBViewer</a>),\n",
       "  it may mean that your frontend doesn't currently support widgets.\n",
       "</p>\n"
      ],
      "text/plain": [
       "Button(description='Index', style=ButtonStyle())"
      ]
     },
     "metadata": {},
     "output_type": "display_data"
    },
    {
     "data": {
      "application/vnd.jupyter.widget-view+json": {
       "model_id": "651c29d36f974595830c229a5d98251a",
       "version_major": 2,
       "version_minor": 0
      },
      "text/html": [
       "<p>Failed to display Jupyter Widget of type <code>Button</code>.</p>\n",
       "<p>\n",
       "  If you're reading this message in the Jupyter Notebook or JupyterLab Notebook, it may mean\n",
       "  that the widgets JavaScript is still loading. If this message persists, it\n",
       "  likely means that the widgets JavaScript library is either not installed or\n",
       "  not enabled. See the <a href=\"https://ipywidgets.readthedocs.io/en/stable/user_install.html\">Jupyter\n",
       "  Widgets Documentation</a> for setup instructions.\n",
       "</p>\n",
       "<p>\n",
       "  If you're reading this message in another frontend (for example, a static\n",
       "  rendering on GitHub or <a href=\"https://nbviewer.jupyter.org/\">NBViewer</a>),\n",
       "  it may mean that your frontend doesn't currently support widgets.\n",
       "</p>\n"
      ],
      "text/plain": [
       "Button(description='Delete index', style=ButtonStyle())"
      ]
     },
     "metadata": {},
     "output_type": "display_data"
    },
    {
     "data": {
      "application/vnd.jupyter.widget-view+json": {
       "model_id": "b6c1c0d27a0a426489803373a7413c0b",
       "version_major": 2,
       "version_minor": 0
      },
      "text/html": [
       "<p>Failed to display Jupyter Widget of type <code>Button</code>.</p>\n",
       "<p>\n",
       "  If you're reading this message in the Jupyter Notebook or JupyterLab Notebook, it may mean\n",
       "  that the widgets JavaScript is still loading. If this message persists, it\n",
       "  likely means that the widgets JavaScript library is either not installed or\n",
       "  not enabled. See the <a href=\"https://ipywidgets.readthedocs.io/en/stable/user_install.html\">Jupyter\n",
       "  Widgets Documentation</a> for setup instructions.\n",
       "</p>\n",
       "<p>\n",
       "  If you're reading this message in another frontend (for example, a static\n",
       "  rendering on GitHub or <a href=\"https://nbviewer.jupyter.org/\">NBViewer</a>),\n",
       "  it may mean that your frontend doesn't currently support widgets.\n",
       "</p>\n"
      ],
      "text/plain": [
       "Button(description='Add page_rank to index', style=ButtonStyle())"
      ]
     },
     "metadata": {},
     "output_type": "display_data"
    },
    {
     "data": {
      "application/vnd.jupyter.widget-view+json": {
       "model_id": "420f2c4cd17542d3b982c267a73a4879",
       "version_major": 2,
       "version_minor": 0
      },
      "text/html": [
       "<p>Failed to display Jupyter Widget of type <code>Text</code>.</p>\n",
       "<p>\n",
       "  If you're reading this message in the Jupyter Notebook or JupyterLab Notebook, it may mean\n",
       "  that the widgets JavaScript is still loading. If this message persists, it\n",
       "  likely means that the widgets JavaScript library is either not installed or\n",
       "  not enabled. See the <a href=\"https://ipywidgets.readthedocs.io/en/stable/user_install.html\">Jupyter\n",
       "  Widgets Documentation</a> for setup instructions.\n",
       "</p>\n",
       "<p>\n",
       "  If you're reading this message in another frontend (for example, a static\n",
       "  rendering on GitHub or <a href=\"https://nbviewer.jupyter.org/\">NBViewer</a>),\n",
       "  it may mean that your frontend doesn't currently support widgets.\n",
       "</p>\n"
      ],
      "text/plain": [
       "Text(value='', description='Title Query')"
      ]
     },
     "metadata": {},
     "output_type": "display_data"
    },
    {
     "data": {
      "application/vnd.jupyter.widget-view+json": {
       "model_id": "813981655d734b28bfb1e719678ba9ac",
       "version_major": 2,
       "version_minor": 0
      },
      "text/html": [
       "<p>Failed to display Jupyter Widget of type <code>Text</code>.</p>\n",
       "<p>\n",
       "  If you're reading this message in the Jupyter Notebook or JupyterLab Notebook, it may mean\n",
       "  that the widgets JavaScript is still loading. If this message persists, it\n",
       "  likely means that the widgets JavaScript library is either not installed or\n",
       "  not enabled. See the <a href=\"https://ipywidgets.readthedocs.io/en/stable/user_install.html\">Jupyter\n",
       "  Widgets Documentation</a> for setup instructions.\n",
       "</p>\n",
       "<p>\n",
       "  If you're reading this message in another frontend (for example, a static\n",
       "  rendering on GitHub or <a href=\"https://nbviewer.jupyter.org/\">NBViewer</a>),\n",
       "  it may mean that your frontend doesn't currently support widgets.\n",
       "</p>\n"
      ],
      "text/plain": [
       "Text(value='', description='Abstract Query')"
      ]
     },
     "metadata": {},
     "output_type": "display_data"
    },
    {
     "data": {
      "application/vnd.jupyter.widget-view+json": {
       "model_id": "4c36d58f378341139ff6f9a6bb77fc30",
       "version_major": 2,
       "version_minor": 0
      },
      "text/html": [
       "<p>Failed to display Jupyter Widget of type <code>Text</code>.</p>\n",
       "<p>\n",
       "  If you're reading this message in the Jupyter Notebook or JupyterLab Notebook, it may mean\n",
       "  that the widgets JavaScript is still loading. If this message persists, it\n",
       "  likely means that the widgets JavaScript library is either not installed or\n",
       "  not enabled. See the <a href=\"https://ipywidgets.readthedocs.io/en/stable/user_install.html\">Jupyter\n",
       "  Widgets Documentation</a> for setup instructions.\n",
       "</p>\n",
       "<p>\n",
       "  If you're reading this message in another frontend (for example, a static\n",
       "  rendering on GitHub or <a href=\"https://nbviewer.jupyter.org/\">NBViewer</a>),\n",
       "  it may mean that your frontend doesn't currently support widgets.\n",
       "</p>\n"
      ],
      "text/plain": [
       "Text(value='', description='Date Query')"
      ]
     },
     "metadata": {},
     "output_type": "display_data"
    },
    {
     "data": {
      "application/vnd.jupyter.widget-view+json": {
       "model_id": "ad0114247d104bacbbce50d9d85f0f82",
       "version_major": 2,
       "version_minor": 0
      },
      "text/html": [
       "<p>Failed to display Jupyter Widget of type <code>Text</code>.</p>\n",
       "<p>\n",
       "  If you're reading this message in the Jupyter Notebook or JupyterLab Notebook, it may mean\n",
       "  that the widgets JavaScript is still loading. If this message persists, it\n",
       "  likely means that the widgets JavaScript library is either not installed or\n",
       "  not enabled. See the <a href=\"https://ipywidgets.readthedocs.io/en/stable/user_install.html\">Jupyter\n",
       "  Widgets Documentation</a> for setup instructions.\n",
       "</p>\n",
       "<p>\n",
       "  If you're reading this message in another frontend (for example, a static\n",
       "  rendering on GitHub or <a href=\"https://nbviewer.jupyter.org/\">NBViewer</a>),\n",
       "  it may mean that your frontend doesn't currently support widgets.\n",
       "</p>\n"
      ],
      "text/plain": [
       "Text(value='', description='Title weight')"
      ]
     },
     "metadata": {},
     "output_type": "display_data"
    },
    {
     "data": {
      "application/vnd.jupyter.widget-view+json": {
       "model_id": "0a6b9960ab924f10b1465b8048398e7b",
       "version_major": 2,
       "version_minor": 0
      },
      "text/html": [
       "<p>Failed to display Jupyter Widget of type <code>Text</code>.</p>\n",
       "<p>\n",
       "  If you're reading this message in the Jupyter Notebook or JupyterLab Notebook, it may mean\n",
       "  that the widgets JavaScript is still loading. If this message persists, it\n",
       "  likely means that the widgets JavaScript library is either not installed or\n",
       "  not enabled. See the <a href=\"https://ipywidgets.readthedocs.io/en/stable/user_install.html\">Jupyter\n",
       "  Widgets Documentation</a> for setup instructions.\n",
       "</p>\n",
       "<p>\n",
       "  If you're reading this message in another frontend (for example, a static\n",
       "  rendering on GitHub or <a href=\"https://nbviewer.jupyter.org/\">NBViewer</a>),\n",
       "  it may mean that your frontend doesn't currently support widgets.\n",
       "</p>\n"
      ],
      "text/plain": [
       "Text(value='', description='Abstract weight')"
      ]
     },
     "metadata": {},
     "output_type": "display_data"
    },
    {
     "data": {
      "application/vnd.jupyter.widget-view+json": {
       "model_id": "3f2abca503c240b98efea7af3c2eb4a5",
       "version_major": 2,
       "version_minor": 0
      },
      "text/html": [
       "<p>Failed to display Jupyter Widget of type <code>Text</code>.</p>\n",
       "<p>\n",
       "  If you're reading this message in the Jupyter Notebook or JupyterLab Notebook, it may mean\n",
       "  that the widgets JavaScript is still loading. If this message persists, it\n",
       "  likely means that the widgets JavaScript library is either not installed or\n",
       "  not enabled. See the <a href=\"https://ipywidgets.readthedocs.io/en/stable/user_install.html\">Jupyter\n",
       "  Widgets Documentation</a> for setup instructions.\n",
       "</p>\n",
       "<p>\n",
       "  If you're reading this message in another frontend (for example, a static\n",
       "  rendering on GitHub or <a href=\"https://nbviewer.jupyter.org/\">NBViewer</a>),\n",
       "  it may mean that your frontend doesn't currently support widgets.\n",
       "</p>\n"
      ],
      "text/plain": [
       "Text(value='', description='Date weight')"
      ]
     },
     "metadata": {},
     "output_type": "display_data"
    },
    {
     "data": {
      "application/vnd.jupyter.widget-view+json": {
       "model_id": "bcf9a4d49b4749868f1a93c25159b27c",
       "version_major": 2,
       "version_minor": 0
      },
      "text/html": [
       "<p>Failed to display Jupyter Widget of type <code>ToggleButton</code>.</p>\n",
       "<p>\n",
       "  If you're reading this message in the Jupyter Notebook or JupyterLab Notebook, it may mean\n",
       "  that the widgets JavaScript is still loading. If this message persists, it\n",
       "  likely means that the widgets JavaScript library is either not installed or\n",
       "  not enabled. See the <a href=\"https://ipywidgets.readthedocs.io/en/stable/user_install.html\">Jupyter\n",
       "  Widgets Documentation</a> for setup instructions.\n",
       "</p>\n",
       "<p>\n",
       "  If you're reading this message in another frontend (for example, a static\n",
       "  rendering on GitHub or <a href=\"https://nbviewer.jupyter.org/\">NBViewer</a>),\n",
       "  it may mean that your frontend doesn't currently support widgets.\n",
       "</p>\n"
      ],
      "text/plain": [
       "ToggleButton(value=False, description='Use page rank', icon='check', tooltip='Use page rank')"
      ]
     },
     "metadata": {},
     "output_type": "display_data"
    },
    {
     "data": {
      "application/vnd.jupyter.widget-view+json": {
       "model_id": "368fe1fa646d4b46aa9084a3fe6ecf54",
       "version_major": 2,
       "version_minor": 0
      },
      "text/html": [
       "<p>Failed to display Jupyter Widget of type <code>Text</code>.</p>\n",
       "<p>\n",
       "  If you're reading this message in the Jupyter Notebook or JupyterLab Notebook, it may mean\n",
       "  that the widgets JavaScript is still loading. If this message persists, it\n",
       "  likely means that the widgets JavaScript library is either not installed or\n",
       "  not enabled. See the <a href=\"https://ipywidgets.readthedocs.io/en/stable/user_install.html\">Jupyter\n",
       "  Widgets Documentation</a> for setup instructions.\n",
       "</p>\n",
       "<p>\n",
       "  If you're reading this message in another frontend (for example, a static\n",
       "  rendering on GitHub or <a href=\"https://nbviewer.jupyter.org/\">NBViewer</a>),\n",
       "  it may mean that your frontend doesn't currently support widgets.\n",
       "</p>\n"
      ],
      "text/plain": [
       "Text(value='', description='Size')"
      ]
     },
     "metadata": {},
     "output_type": "display_data"
    },
    {
     "data": {
      "application/vnd.jupyter.widget-view+json": {
       "model_id": "2280ff35ffbc4df2b3e6b9f716dccceb",
       "version_major": 2,
       "version_minor": 0
      },
      "text/html": [
       "<p>Failed to display Jupyter Widget of type <code>Button</code>.</p>\n",
       "<p>\n",
       "  If you're reading this message in the Jupyter Notebook or JupyterLab Notebook, it may mean\n",
       "  that the widgets JavaScript is still loading. If this message persists, it\n",
       "  likely means that the widgets JavaScript library is either not installed or\n",
       "  not enabled. See the <a href=\"https://ipywidgets.readthedocs.io/en/stable/user_install.html\">Jupyter\n",
       "  Widgets Documentation</a> for setup instructions.\n",
       "</p>\n",
       "<p>\n",
       "  If you're reading this message in another frontend (for example, a static\n",
       "  rendering on GitHub or <a href=\"https://nbviewer.jupyter.org/\">NBViewer</a>),\n",
       "  it may mean that your frontend doesn't currently support widgets.\n",
       "</p>\n"
      ],
      "text/plain": [
       "Button(description='Search', style=ButtonStyle())"
      ]
     },
     "metadata": {},
     "output_type": "display_data"
    },
    {
     "data": {
      "application/vnd.jupyter.widget-view+json": {
       "model_id": "28260e03f83b47e382db2ae20ccda59f",
       "version_major": 2,
       "version_minor": 0
      },
      "text/html": [
       "<p>Failed to display Jupyter Widget of type <code>Text</code>.</p>\n",
       "<p>\n",
       "  If you're reading this message in the Jupyter Notebook or JupyterLab Notebook, it may mean\n",
       "  that the widgets JavaScript is still loading. If this message persists, it\n",
       "  likely means that the widgets JavaScript library is either not installed or\n",
       "  not enabled. See the <a href=\"https://ipywidgets.readthedocs.io/en/stable/user_install.html\">Jupyter\n",
       "  Widgets Documentation</a> for setup instructions.\n",
       "</p>\n",
       "<p>\n",
       "  If you're reading this message in another frontend (for example, a static\n",
       "  rendering on GitHub or <a href=\"https://nbviewer.jupyter.org/\">NBViewer</a>),\n",
       "  it may mean that your frontend doesn't currently support widgets.\n",
       "</p>\n"
      ],
      "text/plain": [
       "Text(value='', description='Best K')"
      ]
     },
     "metadata": {},
     "output_type": "display_data"
    },
    {
     "data": {
      "application/vnd.jupyter.widget-view+json": {
       "model_id": "b07e650584c0485fb8480fbc290d24a2",
       "version_major": 2,
       "version_minor": 0
      },
      "text/html": [
       "<p>Failed to display Jupyter Widget of type <code>Button</code>.</p>\n",
       "<p>\n",
       "  If you're reading this message in the Jupyter Notebook or JupyterLab Notebook, it may mean\n",
       "  that the widgets JavaScript is still loading. If this message persists, it\n",
       "  likely means that the widgets JavaScript library is either not installed or\n",
       "  not enabled. See the <a href=\"https://ipywidgets.readthedocs.io/en/stable/user_install.html\">Jupyter\n",
       "  Widgets Documentation</a> for setup instructions.\n",
       "</p>\n",
       "<p>\n",
       "  If you're reading this message in another frontend (for example, a static\n",
       "  rendering on GitHub or <a href=\"https://nbviewer.jupyter.org/\">NBViewer</a>),\n",
       "  it may mean that your frontend doesn't currently support widgets.\n",
       "</p>\n"
      ],
      "text/plain": [
       "Button(description='Get bests', style=ButtonStyle())"
      ]
     },
     "metadata": {},
     "output_type": "display_data"
    },
    {
     "data": {
      "application/vnd.jupyter.widget-view+json": {
       "model_id": "b83f970eb465483cbb8e5c162131a886",
       "version_major": 2,
       "version_minor": 0
      },
      "text/html": [
       "<p>Failed to display Jupyter Widget of type <code>Output</code>.</p>\n",
       "<p>\n",
       "  If you're reading this message in the Jupyter Notebook or JupyterLab Notebook, it may mean\n",
       "  that the widgets JavaScript is still loading. If this message persists, it\n",
       "  likely means that the widgets JavaScript library is either not installed or\n",
       "  not enabled. See the <a href=\"https://ipywidgets.readthedocs.io/en/stable/user_install.html\">Jupyter\n",
       "  Widgets Documentation</a> for setup instructions.\n",
       "</p>\n",
       "<p>\n",
       "  If you're reading this message in another frontend (for example, a static\n",
       "  rendering on GitHub or <a href=\"https://nbviewer.jupyter.org/\">NBViewer</a>),\n",
       "  it may mean that your frontend doesn't currently support widgets.\n",
       "</p>\n"
      ],
      "text/plain": [
       "Output()"
      ]
     },
     "metadata": {},
     "output_type": "display_data"
    }
   ],
   "source": [
    "from IPython.display import display,clear_output\n",
    "import ipywidgets as widgets\n",
    "\n",
    "path_txt = widgets.Text(description=\"File path\", width=200)\n",
    "index_btn = widgets.Button(description='Index')\n",
    "delete_btn = widgets.Button(description='Delete index')\n",
    "add_page_rank_btn = widgets.Button(description='Add page_rank to index')\n",
    "\n",
    "title_query = widgets.Text(description=\"Title Query\", width=200)\n",
    "abstract_query = widgets.Text(description=\"Abstract Query\", width=200)\n",
    "date_query = widgets.Text(description=\"Date Query\", width=200)\n",
    "title_w = widgets.Text(description=\"Title weight\", width=200)\n",
    "abstract_w = widgets.Text(description=\"Abstract weight\", width=200)\n",
    "date_w = widgets.Text(description=\"Date weight\", width=200)\n",
    "use_page_rank = widgets.ToggleButton(\n",
    "    value=False,\n",
    "    description='Use page rank',\n",
    "    disabled=False,\n",
    "    button_style='', # 'success', 'info', 'warning', 'danger' or ''\n",
    "    tooltip='Use page rank',\n",
    "    icon='check'\n",
    ")\n",
    "size = widgets.Text(description=\"Size\", width=200)\n",
    "search_btn = widgets.Button(description='Search')\n",
    "\n",
    "size2 = widgets.Text(description=\"Best K\", width=200)\n",
    "get_best_k_btn = widgets.Button(description='Get bests')\n",
    "out = widgets.Output()\n",
    "\n",
    "def index_btn_click(event):\n",
    "    with out:\n",
    "        clear_output(wait=False)\n",
    "        if not path_txt.value:\n",
    "            print('Error: Empty path!')\n",
    "        else:\n",
    "            print('Indexing...')\n",
    "            if ms.index_json(path_txt.value):\n",
    "                print('Done!')\n",
    "            else:\n",
    "                print('Error!')\n",
    "    \n",
    "def delete_btn_click(event):\n",
    "    with out:\n",
    "        clear_output(wait=False)\n",
    "        print(ms.delete_index())\n",
    "        \n",
    "def add_page_rank_btn_click(event):\n",
    "    global graph, ids, authors_graph, authors\n",
    "    with out:\n",
    "        clear_output(wait=False)\n",
    "        graph, ids , authors_graph, authors= create_graph('semanticCrawler/data.json')\n",
    "        graph = np.array(graph, dtype=np.float)\n",
    "        authors_graph = np.array(authors_graph, dtype=np.float)\n",
    "        pr = pageRank(graph)\n",
    "        for i, p in enumerate(pr):\n",
    "            ms.update(i+1, {'paper': {'page_rank':p}})\n",
    "        print('Done!')\n",
    "        \n",
    "def search_btn_click(event):\n",
    "    with out:\n",
    "        clear_output(wait=False)\n",
    "        print(ms.search(title_query.value, abstract_query.value, date_query.value, float(title_w.value),\n",
    "                    float(abstract_w.value), float(date_w.value), use_page_rank.value, size.value))\n",
    "        \n",
    "def best_authority(event):\n",
    "    with out:\n",
    "        clear_output(wait=False)\n",
    "        print(get_best_k(authors_graph, authors, int(size2.value)))\n",
    "\n",
    "index_btn.on_click(index_btn_click)\n",
    "delete_btn.on_click(delete_btn_click)\n",
    "add_page_rank_btn.on_click(add_page_rank_btn_click)\n",
    "search_btn.on_click(search_btn_click)\n",
    "get_best_k_btn.on_click(best_authority)\n",
    "display(path_txt)\n",
    "display(index_btn)\n",
    "display(delete_btn)\n",
    "display(add_page_rank_btn)\n",
    "display(title_query)\n",
    "display(abstract_query)\n",
    "display(date_query)\n",
    "display(title_w)\n",
    "display(abstract_w)\n",
    "display(date_w)\n",
    "display(use_page_rank)\n",
    "display(size)\n",
    "display(search_btn)\n",
    "display(size2)\n",
    "display(get_best_k_btn)\n",
    "display(out)"
   ]
  },
  {
   "cell_type": "code",
   "execution_count": null,
   "metadata": {},
   "outputs": [],
   "source": []
  }
 ],
 "metadata": {
  "kernelspec": {
   "display_name": "Python 3",
   "language": "python",
   "name": "python3"
  },
  "language_info": {
   "codemirror_mode": {
    "name": "ipython",
    "version": 3
   },
   "file_extension": ".py",
   "mimetype": "text/x-python",
   "name": "python",
   "nbconvert_exporter": "python",
   "pygments_lexer": "ipython3",
   "version": "3.6.4"
  }
 },
 "nbformat": 4,
 "nbformat_minor": 2
}
